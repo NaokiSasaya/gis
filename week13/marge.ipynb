{
 "cells": [
  {
   "cell_type": "code",
   "execution_count": 7,
   "metadata": {},
   "outputs": [],
   "source": [
    "import pandas as pd"
   ]
  },
  {
   "cell_type": "code",
   "execution_count": 8,
   "metadata": {},
   "outputs": [],
   "source": [
    "# Load the CSV data into DataFrames\n",
    "df_master = pd.read_csv('data/master2.csv')\n",
    "df_additional1 = pd.read_csv('data/life.csv')\n",
    "df_additional2 = pd.read_csv('data/money.csv')\n",
    "df_additional3 = pd.read_csv('data/work.csv')"
   ]
  },
  {
   "cell_type": "code",
   "execution_count": 9,
   "metadata": {},
   "outputs": [],
   "source": [
    "# Sort the main DataFrame by year and country\n",
    "df_master.sort_values(['year', 'Country name'], inplace=True)"
   ]
  },
  {
   "cell_type": "code",
   "execution_count": 10,
   "metadata": {},
   "outputs": [],
   "source": [
    "# Merge the data on 'year' and 'country' columns, keeping all rows\n",
    "df_merged = pd.merge(df_master, df_additional1, on=['year', 'ISO3'], how='left')"
   ]
  },
  {
   "cell_type": "code",
   "execution_count": 11,
   "metadata": {},
   "outputs": [],
   "source": [
    "df_merged = pd.merge(df_master, df_additional2, on=['year', 'ISO3'], how='left')"
   ]
  },
  {
   "cell_type": "code",
   "execution_count": 12,
   "metadata": {},
   "outputs": [],
   "source": [
    "df_merged = pd.merge(df_master, df_additional3, on=['year', 'ISO3'], how='left')"
   ]
  },
  {
   "cell_type": "code",
   "execution_count": 13,
   "metadata": {},
   "outputs": [],
   "source": [
    "# Forward fill missing values with data from the previous year\n",
    "df_merged.fillna(method='ffill', inplace=True)"
   ]
  },
  {
   "cell_type": "code",
   "execution_count": 14,
   "metadata": {},
   "outputs": [
    {
     "name": "stdout",
     "output_type": "stream",
     "text": [
      "            Country name Alpha-2 code ISO3  Numeric code  latitude  longitude   \n",
      "0            Afghanistan           AF  AFG             4   33.0000       65.0  \\\n",
      "1                Albania           AL  ALB             8   41.0000       20.0   \n",
      "2                Algeria           DZ  DZA            12   28.0000        3.0   \n",
      "3         American Samoa           AS  ASM            16  -14.3333     -170.0   \n",
      "4                Andorra           AD  AND            20   42.5000        1.6   \n",
      "...                  ...          ...  ...           ...       ...        ...   \n",
      "16123  Wallis and Futuna           WF  WLF           876  -13.3000     -176.2   \n",
      "16124     Western Sahara           EH  ESH           732   24.5000      -13.0   \n",
      "16125              Yemen           YE  YEM           887   15.0000       48.0   \n",
      "16126             Zambia           ZM  ZMB           894  -15.0000       30.0   \n",
      "16127           Zimbabwe           ZW  ZWE           716  -20.0000       30.0   \n",
      "\n",
      "       year INDICATOR SUBJECT MEASURE FREQUENCY    time  Flag Codes  \n",
      "0      1960       NaN     NaN     NaN       NaN     NaN         NaN  \n",
      "1      1960       NaN     NaN     NaN       NaN     NaN         NaN  \n",
      "2      1960       NaN     NaN     NaN       NaN     NaN         NaN  \n",
      "3      1960       NaN     NaN     NaN       NaN     NaN         NaN  \n",
      "4      1960       NaN     NaN     NaN       NaN     NaN         NaN  \n",
      "...     ...       ...     ...     ...       ...     ...         ...  \n",
      "16123  2022     HRWKD     TOT  HR_WKD         A  1791.0         NaN  \n",
      "16124  2022     HRWKD     TOT  HR_WKD         A  1791.0         NaN  \n",
      "16125  2022     HRWKD     TOT  HR_WKD         A  1791.0         NaN  \n",
      "16126  2022     HRWKD     TOT  HR_WKD         A  1791.0         NaN  \n",
      "16127  2022     HRWKD     TOT  HR_WKD         A  1791.0         NaN  \n",
      "\n",
      "[16128 rows x 13 columns]\n"
     ]
    }
   ],
   "source": [
    "print(df_merged)"
   ]
  },
  {
   "cell_type": "code",
   "execution_count": 15,
   "metadata": {},
   "outputs": [],
   "source": [
    "df_master.to_csv('newmaster2.csv')"
   ]
  },
  {
   "cell_type": "code",
   "execution_count": null,
   "metadata": {},
   "outputs": [],
   "source": []
  }
 ],
 "metadata": {
  "kernelspec": {
   "display_name": "gis",
   "language": "python",
   "name": "python3"
  },
  "language_info": {
   "codemirror_mode": {
    "name": "ipython",
    "version": 3
   },
   "file_extension": ".py",
   "mimetype": "text/x-python",
   "name": "python",
   "nbconvert_exporter": "python",
   "pygments_lexer": "ipython3",
   "version": "3.11.3"
  },
  "orig_nbformat": 4
 },
 "nbformat": 4,
 "nbformat_minor": 2
}
